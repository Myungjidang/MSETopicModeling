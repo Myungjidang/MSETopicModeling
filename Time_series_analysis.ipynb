{
 "cells": [
  {
   "attachments": {},
   "cell_type": "markdown",
   "metadata": {},
   "source": [
    "### 필요한 가상환경\n",
    "\n",
    "pip install --upgrade pip\n",
    "\n",
    "pip install numpy\n",
    "\n",
    "pip install pandas\n",
    "\n",
    "pip install -U scikit-learn\n",
    "\n",
    "pip install tqdm  # 4.64.1\n",
    "\n",
    "python -m pip install statsmodels\n",
    "\n",
    "pip install statsmodels  # 0.13.5\n",
    "\n",
    "pip install seaborn"
   ]
  },
  {
   "cell_type": "code",
   "execution_count": 1,
   "metadata": {},
   "outputs": [],
   "source": [
    "import os\n",
    "from models.execute_patent import execute_patent\n",
    "from models.visualization import visualization\n",
    "from models.utils.arguments import get_args"
   ]
  },
  {
   "cell_type": "code",
   "execution_count": 2,
   "metadata": {},
   "outputs": [],
   "source": [
    "current_years = 2019\n",
    "\n",
    "path = os.getcwd()\n",
    "args = get_args(current_years)"
   ]
  },
  {
   "cell_type": "code",
   "execution_count": 3,
   "metadata": {},
   "outputs": [
    {
     "name": "stdout",
     "output_type": "stream",
     "text": [
      "[2017]\n",
      "-----------------Result of timeseries forecasting-----------------\n",
      "[ VAR ]\n",
      "VECTOR  | EuclideanDistance | 0.060790653530657754\n",
      "VECTOR  | CosineSimilarity  | 0.9900934478686269\n",
      "SCALA   | MeanAbsolute      | 126.68011955734025\n",
      "------------------------------------------------------------------\n",
      "[ Average : 1 years ]\n",
      "SCALA   | MeanAbsolute      | 89.36666666666666\n",
      "VECTOR  | EuclideanDistance | 0.06150389126507632\n",
      "VECTOR  | CosineSimilarity  | 0.9903413653373718\n",
      "------------------------------------------------------------------\n",
      "[ Average : 3 years ]\n",
      "SCALA   | MeanAbsolute      | 89.26666666666667\n",
      "VECTOR  | EuclideanDistance | 0.05706842105433626\n",
      "VECTOR  | CosineSimilarity  | 0.9915586709976196\n",
      "------------------------------------------------------------------\n",
      "[ Average : 5 years ]\n",
      "SCALA   | MeanAbsolute      | 309.66666666666674\n",
      "VECTOR  | EuclideanDistance | 0.05706842105433626\n",
      "VECTOR  | CosineSimilarity  | 0.9915586709976196\n",
      " \n",
      "[2018]\n",
      "-----------------Result of timeseries forecasting-----------------\n",
      "[ VAR ]\n",
      "VECTOR  | EuclideanDistance | 0.06185134510240574\n",
      "VECTOR  | CosineSimilarity  | 0.989736267271698\n",
      "SCALA   | MeanAbsolute      | 125.52292429822447\n",
      "------------------------------------------------------------------\n",
      "[ Average : 1 years ]\n",
      "SCALA   | MeanAbsolute      | 88.4\n",
      "VECTOR  | EuclideanDistance | 0.06660626614993727\n",
      "VECTOR  | CosineSimilarity  | 0.9882579445838928\n",
      "------------------------------------------------------------------\n",
      "[ Average : 3 years ]\n",
      "SCALA   | MeanAbsolute      | 80.23333333333333\n",
      "VECTOR  | EuclideanDistance | 0.06232201425440033\n",
      "VECTOR  | CosineSimilarity  | 0.989501416683197\n",
      "------------------------------------------------------------------\n",
      "[ Average : 5 years ]\n",
      "SCALA   | MeanAbsolute      | 111.92666666666669\n",
      "VECTOR  | EuclideanDistance | 0.06284643184929312\n",
      "VECTOR  | CosineSimilarity  | 0.9893112182617188\n",
      " \n",
      "[2019]\n",
      "-----------------Result of timeseries forecasting-----------------\n",
      "[ VAR ]\n",
      "VECTOR  | EuclideanDistance | 0.06875804568247572\n",
      "VECTOR  | CosineSimilarity  | 0.9873969820020104\n",
      "SCALA   | MeanAbsolute      | 151.56999184920488\n",
      "------------------------------------------------------------------\n",
      "[ Average : 1 years ]\n",
      "SCALA   | MeanAbsolute      | 175.53333333333333\n",
      "VECTOR  | EuclideanDistance | 0.07025537958126926\n",
      "VECTOR  | CosineSimilarity  | 0.9874288439750671\n",
      "------------------------------------------------------------------\n",
      "[ Average : 3 years ]\n",
      "SCALA   | MeanAbsolute      | 211.2111111111111\n",
      "VECTOR  | EuclideanDistance | 0.06832994270057711\n",
      "VECTOR  | CosineSimilarity  | 0.9879466891288757\n",
      "------------------------------------------------------------------\n",
      "[ Average : 5 years ]\n",
      "SCALA   | MeanAbsolute      | 244.06666666666663\n",
      "VECTOR  | EuclideanDistance | 0.0705274143536076\n",
      "VECTOR  | CosineSimilarity  | 0.9869515895843506\n",
      " \n"
     ]
    }
   ],
   "source": [
    "var_v = execute_patent(current_years, path)\n",
    "# 본 모듈은 2014~2019년 데이터로 미래의 2~3년간을 예측하는 모델입니다.\n",
    "# sample data는 2020~2023년까지의 데이터가 없어서 2024~2025년을 예측하는 결과가 나오지 못합니다.\n",
    "# 데이터가 충분히 수집될 경우 먼 미래의 특허 동향을 예측할 수 있습니다.\n",
    "\n",
    "# 새로운 데이터로 실행할 경우 tmp_data 폴더 밑의 label_centroid_information 폴더 전체를 삭제해야 합니다.\n",
    "# 새로운 데이터로 예측을 실행하는 데 데이터 양에 따라 시작 시간이 오래 소요됩니다. 오류가 아니니 기다려주세요."
   ]
  },
  {
   "cell_type": "code",
   "execution_count": 4,
   "metadata": {},
   "outputs": [
    {
     "name": "stdout",
     "output_type": "stream",
     "text": [
      "VECTOR  | EuclideanDistance | 0.06875804568247572\n",
      "VECTOR  | CosineSimilarity  | 0.9873969820020104\n",
      "SCALA   | MeanAbsolute      | 151.56999184920488\n"
     ]
    },
    {
     "name": "stderr",
     "output_type": "stream",
     "text": [
      "c:\\Users\\USER\\AppData\\Local\\Programs\\Python\\Python37\\lib\\site-packages\\sklearn\\manifold\\_t_sne.py:793: FutureWarning: The default learning rate in TSNE will change from 200.0 to 'auto' in 1.2.\n",
      "  FutureWarning,\n",
      "c:\\Users\\USER\\AppData\\Local\\Programs\\Python\\Python37\\lib\\site-packages\\sklearn\\manifold\\_t_sne.py:986: FutureWarning: The PCA initialization in TSNE will change to have the standard deviation of PC1 equal to 1e-4 in 1.2. This will ensure better convergence.\n",
      "  FutureWarning,\n",
      "100%|██████████| 30/30 [00:13<00:00,  2.22it/s]\n",
      "100%|██████████| 30/30 [00:03<00:00,  9.52it/s]\n",
      "100%|██████████| 30/30 [00:03<00:00,  9.05it/s]\n",
      "100%|██████████| 30/30 [00:03<00:00,  8.37it/s]\n",
      "100%|██████████| 30/30 [00:00<00:00, 32.22it/s]\n",
      "100%|██████████| 30/30 [00:02<00:00, 12.26it/s]\n",
      "100%|██████████| 30/30 [00:16<00:00,  1.83it/s]\n",
      "100%|██████████| 30/30 [00:03<00:00,  7.53it/s]\n",
      "100%|██████████| 30/30 [00:04<00:00,  6.96it/s]\n",
      "100%|██████████| 30/30 [00:04<00:00,  6.47it/s]\n",
      "100%|██████████| 30/30 [00:01<00:00, 23.98it/s]\n",
      "100%|██████████| 30/30 [00:03<00:00,  8.77it/s]\n"
     ]
    },
    {
     "data": {
      "image/png": "[encoded data removed]",
      "text/plain": [
       "<Figure size 640x480 with 1 Axes>"
      ]
     },
     "metadata": {},
     "output_type": "display_data"
    }
   ],
   "source": [
    "path = os.getcwd()\n",
    "args = get_args(current_years)\n",
    "country_list = [\"chinese\", \"english\", \"german\", \"japanese\", \"korean\"]\n",
    "visualization(country_list, args)"
   ]
  },
  {
   "attachments": {},
   "cell_type": "markdown",
   "metadata": {},
   "source": [
    "## Result \n",
    "### Images\n",
    "\n",
    "output / images / scala / total : 특허 주제가 갖는 실제 데이터 양과 이전 연도의 평균/VAR 알고리즘을 사용한 데이터 양 예측 비교\n",
    "\n",
    "output / images / vector / var : 실제 특허 중심의 이동과 VAR 알고리즘을 활용해 추적한 중심 (실행 파일에 출력된 Result of timeseries forecasting 참고)\n",
    "\n",
    "### Wordlist\n",
    "\n",
    "output / wordlist / total : 실제 특허 주제의 중심에서 가장 가까운 단어\n",
    "\n",
    "output / wordlist / var : var로 예측한 특허 주제의 중심에서 가장 가까운 단어\n",
    "\n",
    "output / wordlist / country_total : 실제 특허 주제의 중심에서 가장 가까운 단어(국가별)\n",
    "\n",
    "output / wordlist / country_var : var로 예측한 특허 주제의 중심에서 가장 가까운 단어(국가별)\n",
    "\n",
    "### Docxlist\n",
    "\n",
    "output / docxlist / total : 실제 특허 주제의 중심에서 가장 가까운 document\n",
    "\n",
    "output / docxlist / var : var로 예측한 특허 주제의 중심에서 가장 가까운 document"
   ]
  }
 ],
 "metadata": {
  "kernelspec": {
   "display_name": "Python 3",
   "language": "python",
   "name": "python3"
  },
  "language_info": {
   "codemirror_mode": {
    "name": "ipython",
    "version": 3
   },
   "file_extension": ".py",
   "mimetype": "text/x-python",
   "name": "python",
   "nbconvert_exporter": "python",
   "pygments_lexer": "ipython3",
   "version": "3.7.9"
  },
  "orig_nbformat": 4
 },
 "nbformat": 4,
 "nbformat_minor": 2
}
